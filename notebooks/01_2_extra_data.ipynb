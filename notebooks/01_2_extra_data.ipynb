{
 "cells": [
  {
   "cell_type": "markdown",
   "id": "8da8cf45",
   "metadata": {},
   "source": [
    "## 1. Carregamento dos Dados  \n",
    "\n"
   ]
  },
  {
   "cell_type": "markdown",
   "id": "9d03af99",
   "metadata": {},
   "source": [
    "Nesta etapa, foram importadas as duas principais fontes de dados que servirão para a integração:  \n",
    "- **IMDb (5000 filmes)**: arquivo `movie_metadata.csv`, que contém informações detalhadas como título, ano, duração, gêneros, nota do IMDb, palavras-chave e elenco principal.  \n",
    "- **Base do Desafio (999 filmes)**: arquivo `df_eda01.csv`, que já havia passado por um processo inicial de tratamento no notebook anterior.  "
   ]
  },
  {
   "cell_type": "code",
   "execution_count": 30,
   "id": "dba1720b",
   "metadata": {},
   "outputs": [],
   "source": [
    "import pandas as pd\n",
    "import nltk \n",
    "from nltk.corpus import stopwords\n",
    "import string\n",
    "\n",
    "imdb = pd.read_csv('../data/raw/movie_metadata.csv')\n",
    "base_desafio =  pd.read_csv('../data/processed/df_eda01.csv')"
   ]
  },
  {
   "cell_type": "markdown",
   "id": "2f56b0fd",
   "metadata": {},
   "source": [
    "## 2. Exploração Inicial do Dataset IMDb  & Junção com a base forencida no desafio!"
   ]
  },
  {
   "cell_type": "markdown",
   "id": "298c9f2c",
   "metadata": {},
   "source": [
    "\n",
    "\n",
    "Antes da integração, foi feita uma análise preliminar da base de 5000 filmes para compreender a completude dos dados e a estrutura das colunas.  \n",
    "\n",
    "- **Verificação de valores nulos**.  \n",
    "- **Visualização da coluna de gêneros (`genres`)**.  \n",
    "\n",
    "Essa análise mostrou que alguns campos possuem valores ausentes, e que os gêneros vêm no formato de string separados por `|`.  "
   ]
  },
  {
   "cell_type": "code",
   "execution_count": 31,
   "id": "256e616e",
   "metadata": {},
   "outputs": [
    {
     "data": {
      "text/plain": [
       "color                         19\n",
       "director_name                104\n",
       "num_critic_for_reviews        50\n",
       "duration                      15\n",
       "director_facebook_likes      104\n",
       "actor_3_facebook_likes        23\n",
       "actor_2_name                  13\n",
       "actor_1_facebook_likes         7\n",
       "gross                        884\n",
       "genres                         0\n",
       "actor_1_name                   7\n",
       "movie_title                    0\n",
       "num_voted_users                0\n",
       "cast_total_facebook_likes      0\n",
       "actor_3_name                  23\n",
       "facenumber_in_poster          13\n",
       "plot_keywords                153\n",
       "movie_imdb_link                0\n",
       "num_user_for_reviews          21\n",
       "language                      14\n",
       "country                        5\n",
       "content_rating               303\n",
       "budget                       492\n",
       "title_year                   108\n",
       "actor_2_facebook_likes        13\n",
       "imdb_score                     0\n",
       "aspect_ratio                 329\n",
       "movie_facebook_likes           0\n",
       "dtype: int64"
      ]
     },
     "execution_count": 31,
     "metadata": {},
     "output_type": "execute_result"
    }
   ],
   "source": [
    "imdb.isna().sum()"
   ]
  },
  {
   "cell_type": "code",
   "execution_count": 32,
   "id": "885240c0",
   "metadata": {},
   "outputs": [
    {
     "data": {
      "text/plain": [
       "0       Action|Adventure|Fantasy|Sci-Fi\n",
       "1              Action|Adventure|Fantasy\n",
       "2             Action|Adventure|Thriller\n",
       "3                       Action|Thriller\n",
       "4                           Documentary\n",
       "                     ...               \n",
       "5038                       Comedy|Drama\n",
       "5039       Crime|Drama|Mystery|Thriller\n",
       "5040              Drama|Horror|Thriller\n",
       "5041               Comedy|Drama|Romance\n",
       "5042                        Documentary\n",
       "Name: genres, Length: 5043, dtype: object"
      ]
     },
     "execution_count": 32,
     "metadata": {},
     "output_type": "execute_result"
    }
   ],
   "source": [
    "imdb['genres']"
   ]
  },
  {
   "cell_type": "markdown",
   "id": "ae54b920",
   "metadata": {},
   "source": [
    "Foi realizada uma análise exploratória para identificar todos os gêneros presentes no dataset IMDb (5000 filmes).  \n",
    "O objetivo foi obter a lista de categorias únicas e comparar com os gêneros existentes na base inicial do desafio (999 filmes).  \n"
   ]
  },
  {
   "cell_type": "code",
   "execution_count": 33,
   "id": "775a91fd",
   "metadata": {},
   "outputs": [
    {
     "name": "stdout",
     "output_type": "stream",
     "text": [
      "total de generos distintos:  26\n",
      "['Action', 'Adventure', 'Fantasy', 'Sci-Fi', 'Thriller', 'Documentary', 'Romance', 'Animation', 'Comedy', 'Family', 'Musical', 'Mystery', 'Western', 'Drama', 'History', 'Sport', 'Crime', 'Horror', 'War', 'Biography', 'Music', 'Game-Show', 'Reality-TV', 'News', 'Short', 'Film-Noir']\n"
     ]
    }
   ],
   "source": [
    "lista_generos = []\n",
    "\n",
    "# Percorre cada valor da coluna 'Genre'\n",
    "for generos in imdb['genres']:\n",
    "    # Divide a string em gêneros individuais\n",
    "    for g in generos.split('|'):\n",
    "        g = g.strip()  # remove espaços extras\n",
    "        if g not in lista_generos:\n",
    "            lista_generos.append(g)\n",
    "\n",
    "print('total de generos distintos: ', len(lista_generos))\n",
    "print(lista_generos)\n"
   ]
  },
  {
   "cell_type": "markdown",
   "id": "a07e2fca",
   "metadata": {},
   "source": [
    "Após identificar os gêneros distintos, foi criada uma nova coluna `Genres_list` no dataset IMDb.  \n",
    "Essa coluna armazena os gêneros de cada filme no formato de lista, em vez de manter apenas uma string separada por `|`.  \n",
    "\n",
    "Em seguida:  \n",
    "1. A lista de gêneros foi **“explodida”**, de forma que cada filme pudesse aparecer em várias linhas (uma para cada gênero).  \n",
    "2. Criou-se uma **tabela binária (dummies)** indicando, com valores `0` e `1`, a presença de cada gênero por filme.  \n",
    "3. Essa tabela foi integrada de volta ao dataframe original, permitindo que cada gênero passasse a ser tratado como uma coluna independente."
   ]
  },
  {
   "cell_type": "code",
   "execution_count": 34,
   "id": "230b9d8a",
   "metadata": {},
   "outputs": [],
   "source": [
    "imdb[\"Genres_list\"] = (\n",
    "    imdb[\"genres\"].fillna(\"\")\n",
    "      .apply(lambda s: [g.strip() for g in s.split(\"|\") if g.strip() != \"\"])\n",
    ")"
   ]
  },
  {
   "cell_type": "code",
   "execution_count": 35,
   "id": "a2df52f1",
   "metadata": {},
   "outputs": [],
   "source": [
    "tmp = imdb[[\"movie_title\", \"Genres_list\"]].explode(\"Genres_list\")\n",
    "\n",
    "# Tabela binária (filme x gênero)\n",
    "genre_dummies = pd.crosstab(tmp[\"movie_title\"], tmp[\"Genres_list\"]).astype(int)\n",
    "genre_dummies.columns.name = None  # só estética\n",
    "\n",
    "# Anexar ao df (sem risco de duplicar nomes)\n",
    "imdb = imdb.merge(genre_dummies, left_on=\"movie_title\", right_index=True, how=\"left\")\n"
   ]
  },
  {
   "cell_type": "markdown",
   "id": "82718542",
   "metadata": {},
   "source": [
    "Novas Colunas!! "
   ]
  },
  {
   "cell_type": "code",
   "execution_count": 36,
   "id": "6b1a5fa3",
   "metadata": {},
   "outputs": [
    {
     "data": {
      "text/plain": [
       "Index(['color', 'director_name', 'num_critic_for_reviews', 'duration',\n",
       "       'director_facebook_likes', 'actor_3_facebook_likes', 'actor_2_name',\n",
       "       'actor_1_facebook_likes', 'gross', 'genres', 'actor_1_name',\n",
       "       'movie_title', 'num_voted_users', 'cast_total_facebook_likes',\n",
       "       'actor_3_name', 'facenumber_in_poster', 'plot_keywords',\n",
       "       'movie_imdb_link', 'num_user_for_reviews', 'language', 'country',\n",
       "       'content_rating', 'budget', 'title_year', 'actor_2_facebook_likes',\n",
       "       'imdb_score', 'aspect_ratio', 'movie_facebook_likes', 'Genres_list',\n",
       "       'Action', 'Adventure', 'Animation', 'Biography', 'Comedy', 'Crime',\n",
       "       'Documentary', 'Drama', 'Family', 'Fantasy', 'Film-Noir', 'Game-Show',\n",
       "       'History', 'Horror', 'Music', 'Musical', 'Mystery', 'News',\n",
       "       'Reality-TV', 'Romance', 'Sci-Fi', 'Short', 'Sport', 'Thriller', 'War',\n",
       "       'Western'],\n",
       "      dtype='object')"
      ]
     },
     "execution_count": 36,
     "metadata": {},
     "output_type": "execute_result"
    }
   ],
   "source": [
    "imdb.columns"
   ]
  },
  {
   "cell_type": "markdown",
   "id": "a4f98ca8",
   "metadata": {},
   "source": [
    "Foi feita uma checagem entre colunas que representavam os atores principais, mas com nomes diferentes em cada dataset:  \n",
    "\n",
    "- `Star1` (base desafio) vs. `actor_1_name` (IMDb) → **4387 correspondências**  \n",
    "- `Star2` (base desafio) vs. `actor_2_name` (IMDb) → **839 correspondências**  \n",
    "\n",
    "Essa análise confirmou que, apesar da diferença nos nomes das colunas, ambas armazenam a mesma informação.  "
   ]
  },
  {
   "cell_type": "code",
   "execution_count": 37,
   "id": "8e138c15",
   "metadata": {},
   "outputs": [
    {
     "name": "stdout",
     "output_type": "stream",
     "text": [
      "4387\n",
      "839\n"
     ]
    }
   ],
   "source": [
    "Contador1 = 0\n",
    "Contador2 = 0\n",
    "for i in  base_desafio['Star1']: \n",
    "    for n in imdb['actor_1_name']: \n",
    "        if i == n: \n",
    "            Contador1+=1\n",
    "for i in  base_desafio['Star2']: \n",
    "    for n in imdb['actor_2_name']: \n",
    "        if i == n: \n",
    "            Contador2+=1\n",
    "print(Contador1)\n",
    "print(Contador2)"
   ]
  },
  {
   "cell_type": "markdown",
   "id": "51dc3388",
   "metadata": {},
   "source": [
    "Para padronizar a coluna de descrições (`Overview`), foi aplicada uma etapa de pré-processamento de texto:  \n",
    "- Download e uso das *stopwords* em inglês.  \n",
    "- Remoção de pontuações.  \n",
    "- Tokenização das frases em palavras.  \n",
    "- Exclusão de *stopwords*.  \n",
    "- Reconstrução do texto filtrado.  "
   ]
  },
  {
   "cell_type": "code",
   "execution_count": 38,
   "id": "ba6b767b",
   "metadata": {},
   "outputs": [
    {
     "name": "stderr",
     "output_type": "stream",
     "text": [
      "[nltk_data] Error loading stopwords: <urlopen error [Errno 11001]\n",
      "[nltk_data]     getaddrinfo failed>\n"
     ]
    },
    {
     "data": {
      "text/html": [
       "<div>\n",
       "<style scoped>\n",
       "    .dataframe tbody tr th:only-of-type {\n",
       "        vertical-align: middle;\n",
       "    }\n",
       "\n",
       "    .dataframe tbody tr th {\n",
       "        vertical-align: top;\n",
       "    }\n",
       "\n",
       "    .dataframe thead th {\n",
       "        text-align: right;\n",
       "    }\n",
       "</style>\n",
       "<table border=\"1\" class=\"dataframe\">\n",
       "  <thead>\n",
       "    <tr style=\"text-align: right;\">\n",
       "      <th></th>\n",
       "      <th>Series_Title</th>\n",
       "      <th>Released_Year</th>\n",
       "      <th>Certificate</th>\n",
       "      <th>Runtime</th>\n",
       "      <th>Genre</th>\n",
       "      <th>IMDB_Rating</th>\n",
       "      <th>Overview</th>\n",
       "      <th>Meta_score</th>\n",
       "      <th>Director</th>\n",
       "      <th>Star1</th>\n",
       "      <th>...</th>\n",
       "      <th>Musical</th>\n",
       "      <th>Mystery</th>\n",
       "      <th>Romance</th>\n",
       "      <th>Sci-Fi</th>\n",
       "      <th>Sport</th>\n",
       "      <th>Thriller</th>\n",
       "      <th>War</th>\n",
       "      <th>Western</th>\n",
       "      <th>Runtime_min</th>\n",
       "      <th>Gross_float</th>\n",
       "    </tr>\n",
       "  </thead>\n",
       "  <tbody>\n",
       "    <tr>\n",
       "      <th>0</th>\n",
       "      <td>The Godfather</td>\n",
       "      <td>1972.0</td>\n",
       "      <td>A</td>\n",
       "      <td>175 min</td>\n",
       "      <td>Crime, Drama</td>\n",
       "      <td>9.2</td>\n",
       "      <td>organized crime dynastys aging patriarch trans...</td>\n",
       "      <td>100.0</td>\n",
       "      <td>Francis Ford Coppola</td>\n",
       "      <td>Marlon Brando</td>\n",
       "      <td>...</td>\n",
       "      <td>0</td>\n",
       "      <td>0</td>\n",
       "      <td>0</td>\n",
       "      <td>0</td>\n",
       "      <td>0</td>\n",
       "      <td>0</td>\n",
       "      <td>0</td>\n",
       "      <td>0</td>\n",
       "      <td>175.0</td>\n",
       "      <td>134966411.0</td>\n",
       "    </tr>\n",
       "    <tr>\n",
       "      <th>1</th>\n",
       "      <td>The Dark Knight</td>\n",
       "      <td>2008.0</td>\n",
       "      <td>UA</td>\n",
       "      <td>152 min</td>\n",
       "      <td>Action, Crime, Drama</td>\n",
       "      <td>9.0</td>\n",
       "      <td>menace known Joker wreaks havoc chaos people G...</td>\n",
       "      <td>84.0</td>\n",
       "      <td>Christopher Nolan</td>\n",
       "      <td>Christian Bale</td>\n",
       "      <td>...</td>\n",
       "      <td>0</td>\n",
       "      <td>0</td>\n",
       "      <td>0</td>\n",
       "      <td>0</td>\n",
       "      <td>0</td>\n",
       "      <td>0</td>\n",
       "      <td>0</td>\n",
       "      <td>0</td>\n",
       "      <td>152.0</td>\n",
       "      <td>534858444.0</td>\n",
       "    </tr>\n",
       "    <tr>\n",
       "      <th>2</th>\n",
       "      <td>The Godfather: Part II</td>\n",
       "      <td>1974.0</td>\n",
       "      <td>A</td>\n",
       "      <td>202 min</td>\n",
       "      <td>Crime, Drama</td>\n",
       "      <td>9.0</td>\n",
       "      <td>early life career Vito Corleone 1920s New York...</td>\n",
       "      <td>90.0</td>\n",
       "      <td>Francis Ford Coppola</td>\n",
       "      <td>Al Pacino</td>\n",
       "      <td>...</td>\n",
       "      <td>0</td>\n",
       "      <td>0</td>\n",
       "      <td>0</td>\n",
       "      <td>0</td>\n",
       "      <td>0</td>\n",
       "      <td>0</td>\n",
       "      <td>0</td>\n",
       "      <td>0</td>\n",
       "      <td>202.0</td>\n",
       "      <td>57300000.0</td>\n",
       "    </tr>\n",
       "    <tr>\n",
       "      <th>3</th>\n",
       "      <td>12 Angry Men</td>\n",
       "      <td>1957.0</td>\n",
       "      <td>U</td>\n",
       "      <td>96 min</td>\n",
       "      <td>Crime, Drama</td>\n",
       "      <td>9.0</td>\n",
       "      <td>jury holdout attempts prevent miscarriage just...</td>\n",
       "      <td>96.0</td>\n",
       "      <td>Sidney Lumet</td>\n",
       "      <td>Henry Fonda</td>\n",
       "      <td>...</td>\n",
       "      <td>0</td>\n",
       "      <td>0</td>\n",
       "      <td>0</td>\n",
       "      <td>0</td>\n",
       "      <td>0</td>\n",
       "      <td>0</td>\n",
       "      <td>0</td>\n",
       "      <td>0</td>\n",
       "      <td>96.0</td>\n",
       "      <td>4360000.0</td>\n",
       "    </tr>\n",
       "    <tr>\n",
       "      <th>4</th>\n",
       "      <td>The Lord of the Rings: The Return of the King</td>\n",
       "      <td>2003.0</td>\n",
       "      <td>U</td>\n",
       "      <td>201 min</td>\n",
       "      <td>Action, Adventure, Drama</td>\n",
       "      <td>8.9</td>\n",
       "      <td>Gandalf Aragorn lead World Men Saurons army dr...</td>\n",
       "      <td>94.0</td>\n",
       "      <td>Peter Jackson</td>\n",
       "      <td>Elijah Wood</td>\n",
       "      <td>...</td>\n",
       "      <td>0</td>\n",
       "      <td>0</td>\n",
       "      <td>0</td>\n",
       "      <td>0</td>\n",
       "      <td>0</td>\n",
       "      <td>0</td>\n",
       "      <td>0</td>\n",
       "      <td>0</td>\n",
       "      <td>201.0</td>\n",
       "      <td>377845905.0</td>\n",
       "    </tr>\n",
       "    <tr>\n",
       "      <th>...</th>\n",
       "      <td>...</td>\n",
       "      <td>...</td>\n",
       "      <td>...</td>\n",
       "      <td>...</td>\n",
       "      <td>...</td>\n",
       "      <td>...</td>\n",
       "      <td>...</td>\n",
       "      <td>...</td>\n",
       "      <td>...</td>\n",
       "      <td>...</td>\n",
       "      <td>...</td>\n",
       "      <td>...</td>\n",
       "      <td>...</td>\n",
       "      <td>...</td>\n",
       "      <td>...</td>\n",
       "      <td>...</td>\n",
       "      <td>...</td>\n",
       "      <td>...</td>\n",
       "      <td>...</td>\n",
       "      <td>...</td>\n",
       "      <td>...</td>\n",
       "    </tr>\n",
       "    <tr>\n",
       "      <th>994</th>\n",
       "      <td>Breakfast at Tiffany's</td>\n",
       "      <td>1961.0</td>\n",
       "      <td>A</td>\n",
       "      <td>115 min</td>\n",
       "      <td>Comedy, Drama, Romance</td>\n",
       "      <td>7.6</td>\n",
       "      <td>young New York socialite becomes interested yo...</td>\n",
       "      <td>76.0</td>\n",
       "      <td>Blake Edwards</td>\n",
       "      <td>Audrey Hepburn</td>\n",
       "      <td>...</td>\n",
       "      <td>0</td>\n",
       "      <td>0</td>\n",
       "      <td>1</td>\n",
       "      <td>0</td>\n",
       "      <td>0</td>\n",
       "      <td>0</td>\n",
       "      <td>0</td>\n",
       "      <td>0</td>\n",
       "      <td>115.0</td>\n",
       "      <td>NaN</td>\n",
       "    </tr>\n",
       "    <tr>\n",
       "      <th>995</th>\n",
       "      <td>Giant</td>\n",
       "      <td>1956.0</td>\n",
       "      <td>G</td>\n",
       "      <td>201 min</td>\n",
       "      <td>Drama, Western</td>\n",
       "      <td>7.6</td>\n",
       "      <td>Sprawling epic covering life Texas cattle ranc...</td>\n",
       "      <td>84.0</td>\n",
       "      <td>George Stevens</td>\n",
       "      <td>Elizabeth Taylor</td>\n",
       "      <td>...</td>\n",
       "      <td>0</td>\n",
       "      <td>0</td>\n",
       "      <td>0</td>\n",
       "      <td>0</td>\n",
       "      <td>0</td>\n",
       "      <td>0</td>\n",
       "      <td>0</td>\n",
       "      <td>1</td>\n",
       "      <td>201.0</td>\n",
       "      <td>NaN</td>\n",
       "    </tr>\n",
       "    <tr>\n",
       "      <th>996</th>\n",
       "      <td>From Here to Eternity</td>\n",
       "      <td>1953.0</td>\n",
       "      <td>Passed</td>\n",
       "      <td>118 min</td>\n",
       "      <td>Drama, Romance, War</td>\n",
       "      <td>7.6</td>\n",
       "      <td>Hawaii 1941 private cruelly punished boxing un...</td>\n",
       "      <td>85.0</td>\n",
       "      <td>Fred Zinnemann</td>\n",
       "      <td>Burt Lancaster</td>\n",
       "      <td>...</td>\n",
       "      <td>0</td>\n",
       "      <td>0</td>\n",
       "      <td>1</td>\n",
       "      <td>0</td>\n",
       "      <td>0</td>\n",
       "      <td>0</td>\n",
       "      <td>1</td>\n",
       "      <td>0</td>\n",
       "      <td>118.0</td>\n",
       "      <td>30500000.0</td>\n",
       "    </tr>\n",
       "    <tr>\n",
       "      <th>997</th>\n",
       "      <td>Lifeboat</td>\n",
       "      <td>1944.0</td>\n",
       "      <td>NaN</td>\n",
       "      <td>97 min</td>\n",
       "      <td>Drama, War</td>\n",
       "      <td>7.6</td>\n",
       "      <td>Several survivors torpedoed merchant ship Worl...</td>\n",
       "      <td>78.0</td>\n",
       "      <td>Alfred Hitchcock</td>\n",
       "      <td>Tallulah Bankhead</td>\n",
       "      <td>...</td>\n",
       "      <td>0</td>\n",
       "      <td>0</td>\n",
       "      <td>0</td>\n",
       "      <td>0</td>\n",
       "      <td>0</td>\n",
       "      <td>0</td>\n",
       "      <td>1</td>\n",
       "      <td>0</td>\n",
       "      <td>97.0</td>\n",
       "      <td>NaN</td>\n",
       "    </tr>\n",
       "    <tr>\n",
       "      <th>998</th>\n",
       "      <td>The 39 Steps</td>\n",
       "      <td>1935.0</td>\n",
       "      <td>NaN</td>\n",
       "      <td>86 min</td>\n",
       "      <td>Crime, Mystery, Thriller</td>\n",
       "      <td>7.6</td>\n",
       "      <td>man London tries help counterespionage Agent A...</td>\n",
       "      <td>93.0</td>\n",
       "      <td>Alfred Hitchcock</td>\n",
       "      <td>Robert Donat</td>\n",
       "      <td>...</td>\n",
       "      <td>0</td>\n",
       "      <td>1</td>\n",
       "      <td>0</td>\n",
       "      <td>0</td>\n",
       "      <td>0</td>\n",
       "      <td>1</td>\n",
       "      <td>0</td>\n",
       "      <td>0</td>\n",
       "      <td>86.0</td>\n",
       "      <td>NaN</td>\n",
       "    </tr>\n",
       "  </tbody>\n",
       "</table>\n",
       "<p>999 rows × 39 columns</p>\n",
       "</div>"
      ],
      "text/plain": [
       "                                      Series_Title  Released_Year Certificate  \\\n",
       "0                                    The Godfather         1972.0           A   \n",
       "1                                  The Dark Knight         2008.0          UA   \n",
       "2                           The Godfather: Part II         1974.0           A   \n",
       "3                                     12 Angry Men         1957.0           U   \n",
       "4    The Lord of the Rings: The Return of the King         2003.0           U   \n",
       "..                                             ...            ...         ...   \n",
       "994                         Breakfast at Tiffany's         1961.0           A   \n",
       "995                                          Giant         1956.0           G   \n",
       "996                          From Here to Eternity         1953.0      Passed   \n",
       "997                                       Lifeboat         1944.0         NaN   \n",
       "998                                   The 39 Steps         1935.0         NaN   \n",
       "\n",
       "     Runtime                     Genre  IMDB_Rating  \\\n",
       "0    175 min              Crime, Drama          9.2   \n",
       "1    152 min      Action, Crime, Drama          9.0   \n",
       "2    202 min              Crime, Drama          9.0   \n",
       "3     96 min              Crime, Drama          9.0   \n",
       "4    201 min  Action, Adventure, Drama          8.9   \n",
       "..       ...                       ...          ...   \n",
       "994  115 min    Comedy, Drama, Romance          7.6   \n",
       "995  201 min            Drama, Western          7.6   \n",
       "996  118 min       Drama, Romance, War          7.6   \n",
       "997   97 min                Drama, War          7.6   \n",
       "998   86 min  Crime, Mystery, Thriller          7.6   \n",
       "\n",
       "                                              Overview  Meta_score  \\\n",
       "0    organized crime dynastys aging patriarch trans...       100.0   \n",
       "1    menace known Joker wreaks havoc chaos people G...        84.0   \n",
       "2    early life career Vito Corleone 1920s New York...        90.0   \n",
       "3    jury holdout attempts prevent miscarriage just...        96.0   \n",
       "4    Gandalf Aragorn lead World Men Saurons army dr...        94.0   \n",
       "..                                                 ...         ...   \n",
       "994  young New York socialite becomes interested yo...        76.0   \n",
       "995  Sprawling epic covering life Texas cattle ranc...        84.0   \n",
       "996  Hawaii 1941 private cruelly punished boxing un...        85.0   \n",
       "997  Several survivors torpedoed merchant ship Worl...        78.0   \n",
       "998  man London tries help counterespionage Agent A...        93.0   \n",
       "\n",
       "                 Director              Star1  ... Musical Mystery Romance  \\\n",
       "0    Francis Ford Coppola      Marlon Brando  ...       0       0       0   \n",
       "1       Christopher Nolan     Christian Bale  ...       0       0       0   \n",
       "2    Francis Ford Coppola          Al Pacino  ...       0       0       0   \n",
       "3            Sidney Lumet        Henry Fonda  ...       0       0       0   \n",
       "4           Peter Jackson        Elijah Wood  ...       0       0       0   \n",
       "..                    ...                ...  ...     ...     ...     ...   \n",
       "994         Blake Edwards     Audrey Hepburn  ...       0       0       1   \n",
       "995        George Stevens   Elizabeth Taylor  ...       0       0       0   \n",
       "996        Fred Zinnemann     Burt Lancaster  ...       0       0       1   \n",
       "997      Alfred Hitchcock  Tallulah Bankhead  ...       0       0       0   \n",
       "998      Alfred Hitchcock       Robert Donat  ...       0       1       0   \n",
       "\n",
       "     Sci-Fi Sport Thriller  War  Western  Runtime_min  Gross_float  \n",
       "0         0     0        0    0        0        175.0  134966411.0  \n",
       "1         0     0        0    0        0        152.0  534858444.0  \n",
       "2         0     0        0    0        0        202.0   57300000.0  \n",
       "3         0     0        0    0        0         96.0    4360000.0  \n",
       "4         0     0        0    0        0        201.0  377845905.0  \n",
       "..      ...   ...      ...  ...      ...          ...          ...  \n",
       "994       0     0        0    0        0        115.0          NaN  \n",
       "995       0     0        0    0        1        201.0          NaN  \n",
       "996       0     0        0    1        0        118.0   30500000.0  \n",
       "997       0     0        0    1        0         97.0          NaN  \n",
       "998       0     0        1    0        0         86.0          NaN  \n",
       "\n",
       "[999 rows x 39 columns]"
      ]
     },
     "execution_count": 38,
     "metadata": {},
     "output_type": "execute_result"
    }
   ],
   "source": [
    "# Baixar stopwords (só precisa uma vez)\n",
    "nltk.download('stopwords')\n",
    "\n",
    "# Definir stopwords em inglês\n",
    "stop_words = set(stopwords.words('english'))\n",
    "\n",
    "# Função para limpar o texto\n",
    "def clean_text(text):\n",
    "    if pd.isna(text):\n",
    "        return text\n",
    "    # remover pontuação\n",
    "    text = text.translate(str.maketrans('', '', string.punctuation))\n",
    "    # tokenizar\n",
    "    words = text.split()\n",
    "    # remover stopwords\n",
    "    filtered_words = [word for word in words if word.lower() not in stop_words]\n",
    "    return \" \".join(filtered_words)\n",
    "\n",
    "# Substituir a coluna Overview diretamente\n",
    "base_desafio[\"Overview\"] = base_desafio[\"Overview\"].apply(clean_text)\n",
    "base_desafio"
   ]
  },
  {
   "cell_type": "markdown",
   "id": "98f6921c",
   "metadata": {},
   "source": [
    "Remoção de colunas irrelevantes do dataset:"
   ]
  },
  {
   "cell_type": "code",
   "execution_count": 39,
   "id": "5a2b161a",
   "metadata": {},
   "outputs": [],
   "source": [
    "cols_facebook = [\n",
    "    \"director_facebook_likes\",\n",
    "    \"actor_3_facebook_likes\",\n",
    "    \"actor_1_facebook_likes\",\n",
    "    \"cast_total_facebook_likes\",\n",
    "    \"actor_2_facebook_likes\",\n",
    "    \"movie_facebook_likes\"\n",
    "]\n",
    "\n",
    "imdb = imdb.drop(columns=cols_facebook)\n"
   ]
  },
  {
   "cell_type": "markdown",
   "id": "aa79fe58",
   "metadata": {},
   "source": [
    "Verificação se as colunas representam a mesma coisa:"
   ]
  },
  {
   "cell_type": "code",
   "execution_count": 40,
   "id": "5d4ca8c5",
   "metadata": {},
   "outputs": [
    {
     "data": {
      "text/plain": [
       "content_rating\n",
       "R            2118\n",
       "PG-13        1461\n",
       "PG            701\n",
       "Not Rated     116\n",
       "G             112\n",
       "Unrated        62\n",
       "Approved       55\n",
       "TV-14          30\n",
       "TV-MA          20\n",
       "TV-PG          13\n",
       "X              13\n",
       "TV-G           10\n",
       "Passed          9\n",
       "NC-17           7\n",
       "GP              6\n",
       "M               5\n",
       "TV-Y            1\n",
       "TV-Y7           1\n",
       "Name: count, dtype: int64"
      ]
     },
     "execution_count": 40,
     "metadata": {},
     "output_type": "execute_result"
    }
   ],
   "source": [
    "imdb['content_rating'].value_counts()"
   ]
  },
  {
   "cell_type": "code",
   "execution_count": 41,
   "id": "e0f2a88c",
   "metadata": {},
   "outputs": [
    {
     "data": {
      "text/plain": [
       "Certificate\n",
       "U           234\n",
       "A           196\n",
       "UA          175\n",
       "R           146\n",
       "PG-13        43\n",
       "PG           37\n",
       "Passed       34\n",
       "G            12\n",
       "Approved     11\n",
       "TV-PG         3\n",
       "GP            2\n",
       "TV-14         1\n",
       "Unrated       1\n",
       "TV-MA         1\n",
       "16            1\n",
       "U/A           1\n",
       "Name: count, dtype: int64"
      ]
     },
     "execution_count": 41,
     "metadata": {},
     "output_type": "execute_result"
    }
   ],
   "source": [
    "base_desafio[\"Certificate\"].value_counts()"
   ]
  },
  {
   "cell_type": "markdown",
   "id": "66a8c728",
   "metadata": {},
   "source": [
    "Mapeamento do nome das colunas"
   ]
  },
  {
   "cell_type": "code",
   "execution_count": 42,
   "id": "c14e2bd3",
   "metadata": {},
   "outputs": [],
   "source": [
    "mapa_colunas = {\n",
    "    \"movie_title\": \"Series_Title\",\n",
    "    \"title_year\": \"Released_Year\",\n",
    "    \"content_rating\": \"Certificate\",\n",
    "    \"duration\": \"Runtime\",\n",
    "    \"genres\": \"Genre\",\n",
    "    \"imdb_score\": \"IMDB_Rating\",\n",
    "    \"num_voted_users\": \"No_of_Votes\",\n",
    "    \"gross\": \"Gross\",\n",
    "    \"director_name\": \"Director\",\n",
    "    \"actor_1_name\": \"Star1\",\n",
    "    \"actor_2_name\": \"Star2\",\n",
    "    \"actor_3_name\": \"Star3\",\n",
    "    # Não existe no dataset de 5000 mas existe no de 1000\n",
    "    # \"Star4\": ???  # ficaria sem equivalente\n",
    "    \"plot_keywords\": \"Overview\"  \n",
    "}\n",
    "imdb = imdb.rename(columns=mapa_colunas)"
   ]
  },
  {
   "cell_type": "code",
   "execution_count": 43,
   "id": "5807d314",
   "metadata": {},
   "outputs": [
    {
     "data": {
      "text/plain": [
       "Index(['color', 'Director', 'num_critic_for_reviews', 'Runtime', 'Star2',\n",
       "       'Gross', 'Genre', 'Star1', 'Series_Title', 'No_of_Votes', 'Star3',\n",
       "       'facenumber_in_poster', 'Overview', 'movie_imdb_link',\n",
       "       'num_user_for_reviews', 'language', 'country', 'Certificate', 'budget',\n",
       "       'Released_Year', 'IMDB_Rating', 'aspect_ratio', 'Genres_list', 'Action',\n",
       "       'Adventure', 'Animation', 'Biography', 'Comedy', 'Crime', 'Documentary',\n",
       "       'Drama', 'Family', 'Fantasy', 'Film-Noir', 'Game-Show', 'History',\n",
       "       'Horror', 'Music', 'Musical', 'Mystery', 'News', 'Reality-TV',\n",
       "       'Romance', 'Sci-Fi', 'Short', 'Sport', 'Thriller', 'War', 'Western'],\n",
       "      dtype='object')"
      ]
     },
     "execution_count": 43,
     "metadata": {},
     "output_type": "execute_result"
    }
   ],
   "source": [
    "imdb.columns"
   ]
  },
  {
   "cell_type": "markdown",
   "id": "b9ec02fa",
   "metadata": {},
   "source": [
    "Remoção de mais colunas irrelevantes ou redundantes:"
   ]
  },
  {
   "cell_type": "code",
   "execution_count": 44,
   "id": "139d84ad",
   "metadata": {},
   "outputs": [],
   "source": [
    "cols_extra_sem_equivalente = [\n",
    "    \"color\",\n",
    "    \"num_critic_for_reviews\",\n",
    "    \"facenumber_in_poster\",\n",
    "    \"movie_imdb_link\",\n",
    "    \"num_user_for_reviews\",\n",
    "    \"language\",\n",
    "    \"country\",\n",
    "    \"aspect_ratio\"\n",
    "]\n",
    "\n",
    "# Dropar com segurança (ignora se alguma coluna não existir)\n",
    "imdb = imdb.drop(columns=cols_extra_sem_equivalente, errors=\"ignore\")"
   ]
  },
  {
   "cell_type": "code",
   "execution_count": 45,
   "id": "3d0d842d",
   "metadata": {},
   "outputs": [],
   "source": [
    "# Colunas redundantes para remover\n",
    "cols_remover = [\"Genre\"]\n",
    "\n",
    "# Remover com segurança em ambos os DataFrames\n",
    "base_desafio = base_desafio.drop(columns=cols_remover, errors=\"ignore\")\n",
    "imdb = imdb.drop(columns=cols_remover, errors=\"ignore\")\n"
   ]
  },
  {
   "cell_type": "code",
   "execution_count": 46,
   "id": "4b533760",
   "metadata": {},
   "outputs": [
    {
     "name": "stdout",
     "output_type": "stream",
     "text": [
      "Colunas atuais: Index(['Series_Title', 'Released_Year', 'Certificate', 'Runtime',\n",
      "       'IMDB_Rating', 'Overview', 'Meta_score', 'Director', 'Star1', 'Star2',\n",
      "       'Star3', 'Star4', 'No_of_Votes', 'Genres_list', 'Action', 'Adventure',\n",
      "       'Animation', 'Biography', 'Comedy', 'Crime', 'Drama', 'Family',\n",
      "       'Fantasy', 'Film-Noir', 'History', 'Horror', 'Music', 'Musical',\n",
      "       'Mystery', 'Romance', 'Sci-Fi', 'Sport', 'Thriller', 'War', 'Western',\n",
      "       'Runtime_min', 'Gross'],\n",
      "      dtype='object')\n"
     ]
    }
   ],
   "source": [
    "# Remover a coluna Gross antiga (texto)\n",
    "base_desafio = base_desafio.drop(columns=[\"Gross\"], errors=\"ignore\")\n",
    "\n",
    "# Renomear Gross float -> Gross\n",
    "base_desafio = base_desafio.rename(columns={\"Gross_float\": \"Gross\"})\n",
    "\n",
    "print(\"Colunas atuais:\", base_desafio.columns)\n"
   ]
  },
  {
   "cell_type": "code",
   "execution_count": 47,
   "id": "1485cb69",
   "metadata": {},
   "outputs": [
    {
     "name": "stdout",
     "output_type": "stream",
     "text": [
      "Colunas atuais: Index(['Series_Title', 'Released_Year', 'Certificate', 'IMDB_Rating',\n",
      "       'Overview', 'Meta_score', 'Director', 'Star1', 'Star2', 'Star3',\n",
      "       'Star4', 'No_of_Votes', 'Genres_list', 'Action', 'Adventure',\n",
      "       'Animation', 'Biography', 'Comedy', 'Crime', 'Drama', 'Family',\n",
      "       'Fantasy', 'Film-Noir', 'History', 'Horror', 'Music', 'Musical',\n",
      "       'Mystery', 'Romance', 'Sci-Fi', 'Sport', 'Thriller', 'War', 'Western',\n",
      "       'Runtime', 'Gross'],\n",
      "      dtype='object')\n"
     ]
    }
   ],
   "source": [
    "# Remover a coluna Gross antiga (texto)\n",
    "base_desafio = base_desafio.drop(columns=[\"Runtime\"], errors=\"ignore\")\n",
    "\n",
    "# Renomear Gross float -> Gross\n",
    "base_desafio = base_desafio.rename(columns={\"Runtime_min\": \"Runtime\"})\n",
    "\n",
    "print(\"Colunas atuais:\", base_desafio.columns)"
   ]
  },
  {
   "cell_type": "markdown",
   "id": "a618125e",
   "metadata": {},
   "source": [
    "O dataset IMDb importado apresentou alguns gêneros que **não estavam presentes na base do desafio**, como:  \n",
    "- `Short`  \n",
    "- `News`  \n",
    "- `Reality-TV`  \n",
    "- `Game-Show`  \n",
    "- `Documentary`  \n",
    "\n",
    "Foi feita uma contagem da frequência desses gêneros, e observou-se que o número de ocorrências era muito baixo.  \n",
    "Por esse motivo, decidiu-se:  \n",
    "\n",
    "1. **Remover os filmes** que pertenciam a esses gêneros pouco representativos.  \n",
    "2. **Excluir as colunas correspondentes** do dataframe final. "
   ]
  },
  {
   "cell_type": "code",
   "execution_count": 48,
   "id": "c6d28938",
   "metadata": {},
   "outputs": [
    {
     "data": {
      "text/plain": [
       "Short\n",
       "0    5038\n",
       "1       5\n",
       "Name: count, dtype: int64"
      ]
     },
     "execution_count": 48,
     "metadata": {},
     "output_type": "execute_result"
    }
   ],
   "source": [
    "imdb['Short'].value_counts()"
   ]
  },
  {
   "cell_type": "code",
   "execution_count": 49,
   "id": "63f9fb0a",
   "metadata": {},
   "outputs": [
    {
     "data": {
      "text/plain": [
       "News\n",
       "0    5040\n",
       "1       3\n",
       "Name: count, dtype: int64"
      ]
     },
     "execution_count": 49,
     "metadata": {},
     "output_type": "execute_result"
    }
   ],
   "source": [
    "imdb['News'].value_counts()"
   ]
  },
  {
   "cell_type": "code",
   "execution_count": 50,
   "id": "ca058432",
   "metadata": {},
   "outputs": [
    {
     "data": {
      "text/plain": [
       "Reality-TV\n",
       "0    5041\n",
       "1       2\n",
       "Name: count, dtype: int64"
      ]
     },
     "execution_count": 50,
     "metadata": {},
     "output_type": "execute_result"
    }
   ],
   "source": [
    "imdb['Reality-TV'].value_counts()"
   ]
  },
  {
   "cell_type": "code",
   "execution_count": 51,
   "id": "df035bda",
   "metadata": {},
   "outputs": [
    {
     "data": {
      "text/plain": [
       "Game-Show\n",
       "0    5042\n",
       "1       1\n",
       "Name: count, dtype: int64"
      ]
     },
     "execution_count": 51,
     "metadata": {},
     "output_type": "execute_result"
    }
   ],
   "source": [
    "imdb['Game-Show'].value_counts()"
   ]
  },
  {
   "cell_type": "code",
   "execution_count": 52,
   "id": "21aa2c5c",
   "metadata": {},
   "outputs": [
    {
     "data": {
      "text/plain": [
       "Documentary\n",
       "0    4922\n",
       "1     121\n",
       "Name: count, dtype: int64"
      ]
     },
     "execution_count": 52,
     "metadata": {},
     "output_type": "execute_result"
    }
   ],
   "source": [
    "imdb['Documentary'].value_counts()"
   ]
  },
  {
   "cell_type": "code",
   "execution_count": 53,
   "id": "0e5d98aa",
   "metadata": {},
   "outputs": [
    {
     "name": "stdout",
     "output_type": "stream",
     "text": [
      "Formato final do imdb: (4916, 35)\n"
     ]
    }
   ],
   "source": [
    "# Gêneros pouco representativos\n",
    "cols_generos_raros = [\"Short\", \"News\", \"Reality-TV\", \"Game-Show\", \"Documentary\"]\n",
    "\n",
    "# 1. Remover filmes que pertencem a algum desses gêneros\n",
    "imdb = imdb[~(imdb[cols_generos_raros].sum(axis=1) > 0)]\n",
    "\n",
    "# 2. Remover as colunas desses gêneros\n",
    "imdb = imdb.drop(columns=cols_generos_raros)\n",
    "\n",
    "print(\"Formato final do imdb:\", imdb.shape)\n"
   ]
  },
  {
   "cell_type": "markdown",
   "id": "c1d4d369",
   "metadata": {},
   "source": [
    "Padronização do nome dos filmes, removendo espaços, pontuações e deixando tudo minusculo."
   ]
  },
  {
   "cell_type": "code",
   "execution_count": 54,
   "id": "8420cb81",
   "metadata": {},
   "outputs": [],
   "source": [
    "# Padronizar Series_Title nos dois dataframes\n",
    "def padronizar_titulo(df):\n",
    "    df[\"Series_Title\"] = df[\"Series_Title\"].str.lower().str.strip()\n",
    "    return df\n",
    "\n",
    "# Aplicando\n",
    "base_desafio = padronizar_titulo(base_desafio)\n",
    "imdb = padronizar_titulo(imdb)\n"
   ]
  },
  {
   "cell_type": "markdown",
   "id": "2b40eaf5",
   "metadata": {},
   "source": [
    "Como **as duas fontes são do IMDb**, primeiro conferi se havia **filmes repetidos** entre elas.  \n",
    "Para isso, usei **título** e **ano** como chaves de comparação:"
   ]
  },
  {
   "cell_type": "code",
   "execution_count": 55,
   "id": "5ad72203",
   "metadata": {},
   "outputs": [
    {
     "name": "stdout",
     "output_type": "stream",
     "text": [
      "Quantidade de filmes repetidos: 445\n"
     ]
    }
   ],
   "source": [
    "# Verificar interseção dos títulos entre os dois dataframes\n",
    "titulos_base = set(base_desafio[\"Series_Title\"])\n",
    "titulos_imdb = set(imdb[\"Series_Title\"])\n",
    "\n",
    "# Filmes em comum\n",
    "filmes_comuns = titulos_base.intersection(titulos_imdb)\n",
    "\n",
    "print(\"Quantidade de filmes repetidos:\", len(filmes_comuns))\n"
   ]
  },
  {
   "cell_type": "markdown",
   "id": "544a45f5",
   "metadata": {},
   "source": [
    "A base do desafio (999 filmes) **não possuía a coluna `budget`**.  \n",
    "Como esse dado está disponível na base de 5000 filmes do IMDb, foi realizado um processo de integração para enriquecer o dataset.  \n"
   ]
  },
  {
   "cell_type": "code",
   "execution_count": 56,
   "id": "45d2381c",
   "metadata": {},
   "outputs": [
    {
     "name": "stdout",
     "output_type": "stream",
     "text": [
      "Orçamentos preenchidos: 424\n",
      "Total de filmes base_desafio: 999\n",
      "Colunas finais: ['Series_Title', 'Released_Year', 'Certificate', 'IMDB_Rating', 'Overview', 'Meta_score', 'Director', 'Star1', 'Star2', 'Star3', 'No_of_Votes', 'Genres_list', 'Action', 'Adventure', 'Animation', 'Biography', 'Comedy', 'Crime', 'Drama', 'Family', 'Fantasy', 'Film-Noir', 'History', 'Horror', 'Music', 'Musical', 'Mystery', 'Romance', 'Sci-Fi', 'Sport', 'Thriller', 'War', 'Western', 'Runtime', 'Gross', 'budget']\n"
     ]
    }
   ],
   "source": [
    "# Garantir Released_Year numérico para não dar conflito\n",
    "base_desafio[\"Released_Year\"] = pd.to_numeric(base_desafio[\"Released_Year\"], errors=\"coerce\").astype(\"Int64\")\n",
    "imdb[\"Released_Year\"] = pd.to_numeric(imdb[\"Released_Year\"], errors=\"coerce\").astype(\"Int64\")\n",
    "\n",
    "# Criar df auxiliar só com título, ano e budget\n",
    "imdb_budget = imdb[[\"Series_Title\", \"Released_Year\", \"budget\"]].drop_duplicates()\n",
    "\n",
    "# Merge para adicionar budget ao base_desafio\n",
    "base_desafio = base_desafio.merge(\n",
    "    imdb_budget,\n",
    "    on=[\"Series_Title\", \"Released_Year\"],\n",
    "    how=\"left\"\n",
    ")\n",
    "\n",
    "# Dropar Star4 do base_desafio\n",
    "base_desafio = base_desafio.drop(columns=[\"Star4\"], errors=\"ignore\")\n",
    "\n",
    "# Relatório\n",
    "print(\"Orçamentos preenchidos:\", base_desafio[\"budget\"].notna().sum())\n",
    "print(\"Total de filmes base_desafio:\", len(base_desafio))\n",
    "print(\"Colunas finais:\", base_desafio.columns.tolist())\n"
   ]
  },
  {
   "cell_type": "markdown",
   "id": "93acacc1",
   "metadata": {},
   "source": [
    "Criação da coluna Meta_score na base de 5000 filmes, apesar de não termos os valores para eles desejo manter os valores que temos na nossa base original."
   ]
  },
  {
   "cell_type": "code",
   "execution_count": 57,
   "id": "ab970958",
   "metadata": {},
   "outputs": [],
   "source": [
    "if \"Meta_score\" not in imdb.columns:\n",
    "    imdb[\"Meta_score\"] = pd.NA"
   ]
  },
  {
   "cell_type": "markdown",
   "id": "db0e4d19",
   "metadata": {},
   "source": [
    "Remoção dos filmes duplicados presentes tanto na base do desafio quanto na base nova que estamos importando."
   ]
  },
  {
   "cell_type": "code",
   "execution_count": 58,
   "id": "6f3bf197",
   "metadata": {},
   "outputs": [
    {
     "name": "stdout",
     "output_type": "stream",
     "text": [
      "Filmes a remover do imdb por serem duplicados: 441\n",
      "Formas:\n",
      " - base_desafio: (999, 36)\n",
      " - imdb (original): (4916, 36)\n",
      " - imdb (sem duplicados): (4475, 36)\n"
     ]
    }
   ],
   "source": [
    "# Garantir tipos do ano para a chave\n",
    "base_desafio[\"Released_Year\"] = pd.to_numeric(base_desafio[\"Released_Year\"], errors=\"coerce\").astype(\"Int64\")\n",
    "imdb[\"Released_Year\"] = pd.to_numeric(imdb[\"Released_Year\"], errors=\"coerce\").astype(\"Int64\")\n",
    "\n",
    "# Conjunto de chaves presentes no base_desafio\n",
    "chaves_base = pd.MultiIndex.from_frame(base_desafio[[\"Series_Title\", \"Released_Year\"]])\n",
    "\n",
    "# Mascara: True se (titulo, ano) do imdb está no base_desafio\n",
    "mask_overlap = pd.MultiIndex.from_frame(imdb[[\"Series_Title\", \"Released_Year\"]]).isin(chaves_base)\n",
    "\n",
    "# Quantos serão removidos\n",
    "qtde_overlap = int(mask_overlap.sum())\n",
    "print(f\"Filmes a remover do imdb por serem duplicados: {qtde_overlap}\")\n",
    "\n",
    "# Remover duplicados do imdb\n",
    "imdb_unicos = imdb[~mask_overlap].copy()\n",
    "\n",
    "print(\"Formas:\")\n",
    "print(\" - base_desafio:\", base_desafio.shape)\n",
    "print(\" - imdb (original):\", imdb.shape)\n",
    "print(\" - imdb (sem duplicados):\", imdb_unicos.shape)\n"
   ]
  },
  {
   "cell_type": "code",
   "execution_count": 65,
   "id": "eb2b426c",
   "metadata": {},
   "outputs": [],
   "source": [
    "imdb_unicos['Meta_score'] = pd.to_numeric(imdb_unicos[\"Meta_score\"], errors=\"coerce\")"
   ]
  },
  {
   "cell_type": "markdown",
   "id": "0ebb3e4e",
   "metadata": {},
   "source": [
    "Padronização das coluna overview"
   ]
  },
  {
   "cell_type": "code",
   "execution_count": 60,
   "id": "ae522b92",
   "metadata": {},
   "outputs": [],
   "source": [
    "# Substituir '|' por espaço no Overview do imdb_unicos\n",
    "imdb_unicos[\"Overview\"] = imdb_unicos[\"Overview\"].str.replace(\"|\", \" \", regex=False).str.strip()\n"
   ]
  },
  {
   "cell_type": "markdown",
   "id": "2ef56eba",
   "metadata": {},
   "source": [
    "Remoção dos valores duplicados presentes dentro da base nova que estamos importando e junção dessa nova base com a base fornecida no desafio."
   ]
  },
  {
   "cell_type": "code",
   "execution_count": 61,
   "id": "5671b0ff",
   "metadata": {},
   "outputs": [
    {
     "name": "stdout",
     "output_type": "stream",
     "text": [
      "Antes: (4475, 36) Depois: (4263, 36)\n",
      "(5262, 36)\n"
     ]
    },
    {
     "name": "stderr",
     "output_type": "stream",
     "text": [
      "C:\\Users\\guima\\AppData\\Local\\Temp\\ipykernel_28868\\834952163.py:22: FutureWarning: DataFrameGroupBy.apply operated on the grouping columns. This behavior is deprecated, and in a future version of pandas the grouping columns will be excluded from the operation. Either pass `include_groups=False` to exclude the groupings or explicitly select the grouping columns after groupby to silence this warning.\n",
      "  .apply(pick_best)\n"
     ]
    }
   ],
   "source": [
    "# 1) Defina um critério para manter a MELHOR linha por (titulo, ano)\n",
    "def pick_best(group):\n",
    "    # Preferir quem tem budget e gross não nulos, mais votos e overview mais completo\n",
    "    g = group.assign(\n",
    "        budget_notna=group[\"budget\"].notna(),\n",
    "        gross_notna=group[\"Gross\"].notna(),\n",
    "        overview_len=group[\"Overview\"].fillna(\"\").str.len()\n",
    "    )\n",
    "    return (\n",
    "        g.sort_values(\n",
    "            [\"budget_notna\", \"gross_notna\", \"No_of_Votes\", \"overview_len\"],\n",
    "            ascending=[False, False, False, False],\n",
    "        )\n",
    "        .iloc[[0]]\n",
    "        .drop(columns=[\"budget_notna\", \"gross_notna\", \"overview_len\"])\n",
    "    )\n",
    "\n",
    "# 2) Deduplicar o imdb_unicos por (Series_Title, Released_Year)\n",
    "imdb_unicos_dedup = (\n",
    "    imdb_unicos\n",
    "    .groupby([\"Series_Title\", \"Released_Year\"], as_index=False, group_keys=False)\n",
    "    .apply(pick_best)\n",
    "    .reset_index(drop=True)\n",
    ")\n",
    "\n",
    "print(\"Antes:\", imdb_unicos.shape, \"Depois:\", imdb_unicos_dedup.shape)\n",
    "\n",
    "# 3) Agora faça o concat com o base_desafio\n",
    "df_final = pd.concat([base_desafio, imdb_unicos_dedup], ignore_index=True)\n",
    "print(df_final.shape)\n",
    "\n"
   ]
  },
  {
   "cell_type": "markdown",
   "id": "db9951c8",
   "metadata": {},
   "source": [
    "Validando que deu certo a junção!!!\n"
   ]
  },
  {
   "cell_type": "code",
   "execution_count": 62,
   "id": "03694495",
   "metadata": {},
   "outputs": [
    {
     "name": "stdout",
     "output_type": "stream",
     "text": [
      "<class 'pandas.core.frame.DataFrame'>\n",
      "RangeIndex: 5262 entries, 0 to 5261\n",
      "Data columns (total 36 columns):\n",
      " #   Column         Non-Null Count  Dtype  \n",
      "---  ------         --------------  -----  \n",
      " 0   Series_Title   5262 non-null   object \n",
      " 1   Released_Year  5261 non-null   Int64  \n",
      " 2   Certificate    4946 non-null   object \n",
      " 3   IMDB_Rating    5262 non-null   float64\n",
      " 4   Overview       5139 non-null   object \n",
      " 5   Meta_score     842 non-null    float64\n",
      " 6   Director       5262 non-null   object \n",
      " 7   Star1          5262 non-null   object \n",
      " 8   Star2          5261 non-null   object \n",
      " 9   Star3          5258 non-null   object \n",
      " 10  No_of_Votes    5262 non-null   int64  \n",
      " 11  Genres_list    5262 non-null   object \n",
      " 12  Action         5262 non-null   int64  \n",
      " 13  Adventure      5262 non-null   int64  \n",
      " 14  Animation      5262 non-null   int64  \n",
      " 15  Biography      5262 non-null   int64  \n",
      " 16  Comedy         5262 non-null   int64  \n",
      " 17  Crime          5262 non-null   int64  \n",
      " 18  Drama          5262 non-null   int64  \n",
      " 19  Family         5262 non-null   int64  \n",
      " 20  Fantasy        5262 non-null   int64  \n",
      " 21  Film-Noir      5262 non-null   int64  \n",
      " 22  History        5262 non-null   int64  \n",
      " 23  Horror         5262 non-null   int64  \n",
      " 24  Music          5262 non-null   int64  \n",
      " 25  Musical        5262 non-null   int64  \n",
      " 26  Mystery        5262 non-null   int64  \n",
      " 27  Romance        5262 non-null   int64  \n",
      " 28  Sci-Fi         5262 non-null   int64  \n",
      " 29  Sport          5262 non-null   int64  \n",
      " 30  Thriller       5262 non-null   int64  \n",
      " 31  War            5262 non-null   int64  \n",
      " 32  Western        5262 non-null   int64  \n",
      " 33  Runtime        5250 non-null   float64\n",
      " 34  Gross          4413 non-null   float64\n",
      " 35  budget         4330 non-null   float64\n",
      "dtypes: Int64(1), float64(5), int64(22), object(8)\n",
      "memory usage: 1.5+ MB\n"
     ]
    }
   ],
   "source": [
    "df_final.info()\n"
   ]
  },
  {
   "cell_type": "code",
   "execution_count": 63,
   "id": "9234ba45",
   "metadata": {},
   "outputs": [
    {
     "data": {
      "text/html": [
       "<div>\n",
       "<style scoped>\n",
       "    .dataframe tbody tr th:only-of-type {\n",
       "        vertical-align: middle;\n",
       "    }\n",
       "\n",
       "    .dataframe tbody tr th {\n",
       "        vertical-align: top;\n",
       "    }\n",
       "\n",
       "    .dataframe thead th {\n",
       "        text-align: right;\n",
       "    }\n",
       "</style>\n",
       "<table border=\"1\" class=\"dataframe\">\n",
       "  <thead>\n",
       "    <tr style=\"text-align: right;\">\n",
       "      <th></th>\n",
       "      <th>Series_Title</th>\n",
       "      <th>Released_Year</th>\n",
       "      <th>Certificate</th>\n",
       "      <th>IMDB_Rating</th>\n",
       "      <th>Overview</th>\n",
       "      <th>Meta_score</th>\n",
       "      <th>Director</th>\n",
       "      <th>Star1</th>\n",
       "      <th>Star2</th>\n",
       "      <th>Star3</th>\n",
       "      <th>...</th>\n",
       "      <th>Mystery</th>\n",
       "      <th>Romance</th>\n",
       "      <th>Sci-Fi</th>\n",
       "      <th>Sport</th>\n",
       "      <th>Thriller</th>\n",
       "      <th>War</th>\n",
       "      <th>Western</th>\n",
       "      <th>Runtime</th>\n",
       "      <th>Gross</th>\n",
       "      <th>budget</th>\n",
       "    </tr>\n",
       "  </thead>\n",
       "  <tbody>\n",
       "    <tr>\n",
       "      <th>0</th>\n",
       "      <td>the godfather</td>\n",
       "      <td>1972</td>\n",
       "      <td>A</td>\n",
       "      <td>9.2</td>\n",
       "      <td>organized crime dynastys aging patriarch trans...</td>\n",
       "      <td>100.0</td>\n",
       "      <td>Francis Ford Coppola</td>\n",
       "      <td>Marlon Brando</td>\n",
       "      <td>Al Pacino</td>\n",
       "      <td>James Caan</td>\n",
       "      <td>...</td>\n",
       "      <td>0</td>\n",
       "      <td>0</td>\n",
       "      <td>0</td>\n",
       "      <td>0</td>\n",
       "      <td>0</td>\n",
       "      <td>0</td>\n",
       "      <td>0</td>\n",
       "      <td>175.0</td>\n",
       "      <td>134966411.0</td>\n",
       "      <td>6000000.0</td>\n",
       "    </tr>\n",
       "    <tr>\n",
       "      <th>1</th>\n",
       "      <td>the dark knight</td>\n",
       "      <td>2008</td>\n",
       "      <td>UA</td>\n",
       "      <td>9.0</td>\n",
       "      <td>menace known Joker wreaks havoc chaos people G...</td>\n",
       "      <td>84.0</td>\n",
       "      <td>Christopher Nolan</td>\n",
       "      <td>Christian Bale</td>\n",
       "      <td>Heath Ledger</td>\n",
       "      <td>Aaron Eckhart</td>\n",
       "      <td>...</td>\n",
       "      <td>0</td>\n",
       "      <td>0</td>\n",
       "      <td>0</td>\n",
       "      <td>0</td>\n",
       "      <td>0</td>\n",
       "      <td>0</td>\n",
       "      <td>0</td>\n",
       "      <td>152.0</td>\n",
       "      <td>534858444.0</td>\n",
       "      <td>185000000.0</td>\n",
       "    </tr>\n",
       "    <tr>\n",
       "      <th>2</th>\n",
       "      <td>the godfather: part ii</td>\n",
       "      <td>1974</td>\n",
       "      <td>A</td>\n",
       "      <td>9.0</td>\n",
       "      <td>early life career Vito Corleone 1920s New York...</td>\n",
       "      <td>90.0</td>\n",
       "      <td>Francis Ford Coppola</td>\n",
       "      <td>Al Pacino</td>\n",
       "      <td>Robert De Niro</td>\n",
       "      <td>Robert Duvall</td>\n",
       "      <td>...</td>\n",
       "      <td>0</td>\n",
       "      <td>0</td>\n",
       "      <td>0</td>\n",
       "      <td>0</td>\n",
       "      <td>0</td>\n",
       "      <td>0</td>\n",
       "      <td>0</td>\n",
       "      <td>202.0</td>\n",
       "      <td>57300000.0</td>\n",
       "      <td>13000000.0</td>\n",
       "    </tr>\n",
       "    <tr>\n",
       "      <th>3</th>\n",
       "      <td>12 angry men</td>\n",
       "      <td>1957</td>\n",
       "      <td>U</td>\n",
       "      <td>9.0</td>\n",
       "      <td>jury holdout attempts prevent miscarriage just...</td>\n",
       "      <td>96.0</td>\n",
       "      <td>Sidney Lumet</td>\n",
       "      <td>Henry Fonda</td>\n",
       "      <td>Lee J. Cobb</td>\n",
       "      <td>Martin Balsam</td>\n",
       "      <td>...</td>\n",
       "      <td>0</td>\n",
       "      <td>0</td>\n",
       "      <td>0</td>\n",
       "      <td>0</td>\n",
       "      <td>0</td>\n",
       "      <td>0</td>\n",
       "      <td>0</td>\n",
       "      <td>96.0</td>\n",
       "      <td>4360000.0</td>\n",
       "      <td>350000.0</td>\n",
       "    </tr>\n",
       "    <tr>\n",
       "      <th>4</th>\n",
       "      <td>the lord of the rings: the return of the king</td>\n",
       "      <td>2003</td>\n",
       "      <td>U</td>\n",
       "      <td>8.9</td>\n",
       "      <td>Gandalf Aragorn lead World Men Saurons army dr...</td>\n",
       "      <td>94.0</td>\n",
       "      <td>Peter Jackson</td>\n",
       "      <td>Elijah Wood</td>\n",
       "      <td>Viggo Mortensen</td>\n",
       "      <td>Ian McKellen</td>\n",
       "      <td>...</td>\n",
       "      <td>0</td>\n",
       "      <td>0</td>\n",
       "      <td>0</td>\n",
       "      <td>0</td>\n",
       "      <td>0</td>\n",
       "      <td>0</td>\n",
       "      <td>0</td>\n",
       "      <td>201.0</td>\n",
       "      <td>377845905.0</td>\n",
       "      <td>94000000.0</td>\n",
       "    </tr>\n",
       "  </tbody>\n",
       "</table>\n",
       "<p>5 rows × 36 columns</p>\n",
       "</div>"
      ],
      "text/plain": [
       "                                    Series_Title  Released_Year Certificate  \\\n",
       "0                                  the godfather           1972           A   \n",
       "1                                the dark knight           2008          UA   \n",
       "2                         the godfather: part ii           1974           A   \n",
       "3                                   12 angry men           1957           U   \n",
       "4  the lord of the rings: the return of the king           2003           U   \n",
       "\n",
       "   IMDB_Rating                                           Overview  Meta_score  \\\n",
       "0          9.2  organized crime dynastys aging patriarch trans...       100.0   \n",
       "1          9.0  menace known Joker wreaks havoc chaos people G...        84.0   \n",
       "2          9.0  early life career Vito Corleone 1920s New York...        90.0   \n",
       "3          9.0  jury holdout attempts prevent miscarriage just...        96.0   \n",
       "4          8.9  Gandalf Aragorn lead World Men Saurons army dr...        94.0   \n",
       "\n",
       "               Director           Star1            Star2          Star3  ...  \\\n",
       "0  Francis Ford Coppola   Marlon Brando        Al Pacino     James Caan  ...   \n",
       "1     Christopher Nolan  Christian Bale     Heath Ledger  Aaron Eckhart  ...   \n",
       "2  Francis Ford Coppola       Al Pacino   Robert De Niro  Robert Duvall  ...   \n",
       "3          Sidney Lumet     Henry Fonda      Lee J. Cobb  Martin Balsam  ...   \n",
       "4         Peter Jackson     Elijah Wood  Viggo Mortensen   Ian McKellen  ...   \n",
       "\n",
       "   Mystery Romance  Sci-Fi  Sport  Thriller  War  Western  Runtime  \\\n",
       "0        0       0       0      0         0    0        0    175.0   \n",
       "1        0       0       0      0         0    0        0    152.0   \n",
       "2        0       0       0      0         0    0        0    202.0   \n",
       "3        0       0       0      0         0    0        0     96.0   \n",
       "4        0       0       0      0         0    0        0    201.0   \n",
       "\n",
       "         Gross       budget  \n",
       "0  134966411.0    6000000.0  \n",
       "1  534858444.0  185000000.0  \n",
       "2   57300000.0   13000000.0  \n",
       "3    4360000.0     350000.0  \n",
       "4  377845905.0   94000000.0  \n",
       "\n",
       "[5 rows x 36 columns]"
      ]
     },
     "execution_count": 63,
     "metadata": {},
     "output_type": "execute_result"
    }
   ],
   "source": [
    "df_final.head()"
   ]
  },
  {
   "cell_type": "markdown",
   "id": "e4e7aab2",
   "metadata": {},
   "source": [
    "## 3.Salvando os dados: "
   ]
  },
  {
   "cell_type": "markdown",
   "id": "2bdb89b1",
   "metadata": {},
   "source": [
    "Após todas as etapas de integração e tratamento, o dataset final foi salvo em `.csv` para garantir sua reutilização.  \n",
    "\n",
    "Esse arquivo consolidado será utilizado nas próximas etapas do desafio, permitindo dar continuidade às análises exploratórias e aos testes de hipóteses com uma base mais completa e consistente.  \n",
    "\n",
    "Uma observação importante os nulos não foram tratados ainda pois pode impactar negativamente nas analises da 2 questão, porém para a modelagem da segunda iremos tratar!!"
   ]
  },
  {
   "cell_type": "code",
   "execution_count": 64,
   "id": "2b55915e",
   "metadata": {},
   "outputs": [
    {
     "name": "stderr",
     "output_type": "stream",
     "text": [
      "<>:1: SyntaxWarning: invalid escape sequence '\\d'\n",
      "<>:1: SyntaxWarning: invalid escape sequence '\\d'\n",
      "C:\\Users\\guima\\AppData\\Local\\Temp\\ipykernel_28868\\864039978.py:1: SyntaxWarning: invalid escape sequence '\\d'\n",
      "  df_final.to_csv(\"..\\data\\processed\\df_eda01_plus_5000.csv\", index=False)\n"
     ]
    }
   ],
   "source": [
    "df_final.to_csv(\"..\\data\\processed\\df_eda01_plus_5000.csv\", index=False)"
   ]
  },
  {
   "cell_type": "code",
   "execution_count": null,
   "id": "7e74bb8f",
   "metadata": {},
   "outputs": [],
   "source": []
  }
 ],
 "metadata": {
  "kernelspec": {
   "display_name": ".venv",
   "language": "python",
   "name": "python3"
  },
  "language_info": {
   "codemirror_mode": {
    "name": "ipython",
    "version": 3
   },
   "file_extension": ".py",
   "mimetype": "text/x-python",
   "name": "python",
   "nbconvert_exporter": "python",
   "pygments_lexer": "ipython3",
   "version": "3.13.0"
  }
 },
 "nbformat": 4,
 "nbformat_minor": 5
}
